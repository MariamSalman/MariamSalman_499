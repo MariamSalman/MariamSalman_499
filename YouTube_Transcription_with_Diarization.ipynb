{
  "cells": [
    {
      "cell_type": "markdown",
      "id": "6dee057e",
      "metadata": {
        "id": "6dee057e"
      },
      "source": [
        "# **YouTube Video Transcription with Speaker Diarization**\n",
        "\n",
        "This notebook uses AssemblyAI to transcribe a YouTube video and assigns speaker labels to each segment of the transcription."
      ]
    },
    {
      "cell_type": "code",
      "execution_count": 1,
      "id": "3774e45e",
      "metadata": {
        "colab": {
          "base_uri": "https://localhost:8080/"
        },
        "id": "3774e45e",
        "outputId": "c83511ba-8fd7-4039-99cb-1315446a011f"
      },
      "outputs": [
        {
          "output_type": "stream",
          "name": "stdout",
          "text": [
            "Requirement already satisfied: yt-dlp in /usr/local/lib/python3.10/dist-packages (2024.12.13)\n",
            "Requirement already satisfied: assemblyai in /usr/local/lib/python3.10/dist-packages (0.35.1)\n",
            "Requirement already satisfied: httpx>=0.19.0 in /usr/local/lib/python3.10/dist-packages (from assemblyai) (0.28.1)\n",
            "Requirement already satisfied: pydantic>=1.10.17 in /usr/local/lib/python3.10/dist-packages (from assemblyai) (2.10.3)\n",
            "Requirement already satisfied: typing-extensions>=3.7 in /usr/local/lib/python3.10/dist-packages (from assemblyai) (4.12.2)\n",
            "Requirement already satisfied: websockets>=11.0 in /usr/local/lib/python3.10/dist-packages (from assemblyai) (14.1)\n",
            "Requirement already satisfied: anyio in /usr/local/lib/python3.10/dist-packages (from httpx>=0.19.0->assemblyai) (3.7.1)\n",
            "Requirement already satisfied: certifi in /usr/local/lib/python3.10/dist-packages (from httpx>=0.19.0->assemblyai) (2024.12.14)\n",
            "Requirement already satisfied: httpcore==1.* in /usr/local/lib/python3.10/dist-packages (from httpx>=0.19.0->assemblyai) (1.0.7)\n",
            "Requirement already satisfied: idna in /usr/local/lib/python3.10/dist-packages (from httpx>=0.19.0->assemblyai) (3.10)\n",
            "Requirement already satisfied: h11<0.15,>=0.13 in /usr/local/lib/python3.10/dist-packages (from httpcore==1.*->httpx>=0.19.0->assemblyai) (0.14.0)\n",
            "Requirement already satisfied: annotated-types>=0.6.0 in /usr/local/lib/python3.10/dist-packages (from pydantic>=1.10.17->assemblyai) (0.7.0)\n",
            "Requirement already satisfied: pydantic-core==2.27.1 in /usr/local/lib/python3.10/dist-packages (from pydantic>=1.10.17->assemblyai) (2.27.1)\n",
            "Requirement already satisfied: sniffio>=1.1 in /usr/local/lib/python3.10/dist-packages (from anyio->httpx>=0.19.0->assemblyai) (1.3.1)\n",
            "Requirement already satisfied: exceptiongroup in /usr/local/lib/python3.10/dist-packages (from anyio->httpx>=0.19.0->assemblyai) (1.2.2)\n"
          ]
        }
      ],
      "source": [
        "!pip install yt-dlp assemblyai"
      ]
    },
    {
      "cell_type": "markdown",
      "id": "5b5501c3",
      "metadata": {
        "id": "5b5501c3"
      },
      "source": [
        "### Step 1: Download Audio from YouTube\n",
        "Use `yt-dlp` to extract audio from the YouTube video."
      ]
    },
    {
      "cell_type": "code",
      "execution_count": 2,
      "id": "0f608156",
      "metadata": {
        "colab": {
          "base_uri": "https://localhost:8080/"
        },
        "id": "0f608156",
        "outputId": "7bfd8d12-679d-4053-aae4-5eaf040cc3a3"
      },
      "outputs": [
        {
          "output_type": "stream",
          "name": "stdout",
          "text": [
            "Enter the YouTube video URL: https://youtu.be/DQzKw30LeTA?si=hdyugBZVIo-a2q4x\n",
            "Audio downloaded as 'audio.mp3'\n"
          ]
        }
      ],
      "source": [
        "# Download audio from a YouTube video\n",
        "import os\n",
        "\n",
        "# Step 1: Download audio from YouTube\n",
        "youtube_url = input(\"Enter the YouTube video URL: \")\n",
        "os.system(f'yt-dlp -x --audio-format mp3 -o \"audio.mp3\" \"{youtube_url}\"')\n",
        "print(\"Audio downloaded as 'audio.mp3'\")\n"
      ]
    },
    {
      "cell_type": "code",
      "source": [
        "\n",
        "# Step 2: Verify the audio file\n",
        "if not os.path.exists(\"audio.mp3\"):\n",
        "    raise FileNotFoundError(\"The audio file was not downloaded successfully.\")\n"
      ],
      "metadata": {
        "id": "-2I5enzu2SJH"
      },
      "id": "-2I5enzu2SJH",
      "execution_count": 3,
      "outputs": []
    },
    {
      "cell_type": "markdown",
      "id": "c60c06dd",
      "metadata": {
        "id": "c60c06dd"
      },
      "source": [
        "### Step 2: Set Up AssemblyAI\n",
        "Obtain your API key from [AssemblyAI](https://www.assemblyai.com/) and initialize the client."
      ]
    },
    {
      "cell_type": "code",
      "execution_count": 4,
      "id": "f1023fb9",
      "metadata": {
        "id": "f1023fb9"
      },
      "outputs": [],
      "source": [
        "import assemblyai as aai\n",
        "\n",
        "\n",
        "\n",
        "# Step 3: Set up AssemblyAI\n",
        "aai.settings.api_key = \"76e966abc56746f88f365735a37c766f\"  # Replace with your API key\n",
        "transcriber = aai.Transcriber()\n"
      ]
    },
    {
      "cell_type": "markdown",
      "id": "c73d5ec5",
      "metadata": {
        "id": "c73d5ec5"
      },
      "source": [
        "### Step 3: Upload Audio and Transcribe with Speaker Diarization"
      ]
    },
    {
      "cell_type": "code",
      "execution_count": 5,
      "id": "5e4a5ebd",
      "metadata": {
        "colab": {
          "base_uri": "https://localhost:8080/"
        },
        "id": "5e4a5ebd",
        "outputId": "5b34b412-8ef6-40bc-b27f-1274be0481f2"
      },
      "outputs": [
        {
          "output_type": "stream",
          "name": "stdout",
          "text": [
            "Transcription with Speaker Labels:\n",
            "Speaker A: Welcome to Open to Debate. I'm John Donvan and we are gathered for something remarkable here. A meeting between two men who disagree fiercely across an issue that has fiercely divided so many of us within families and on college campuses. And for that alone, for their courage in coming to the same stage, let us congratulate them at the outset because we know how rare it is in our currently hyper polarized culture for opposing viewpoints to be heard, spoken aloud and in competition with each other under the same roof. But that is the essence of debate and that is the value that we promote it. Open to debate. And so it is an honor to be here at New York's venerable Adler Hall, a crown jewel of the New York Society for Ethical Culture, where we cannot and we will not forget how the war in Gaza is steeped in pain and outrage and fear and anger. It's why this debate matters and it's why it is natural to take sides, even necessary to take sides. But listening to the other side, which these debaters will be called to do with one another, and which I hope you will do as members of the audience, just by being here, that may be a first step at least in understanding how and why and exactly why we disagree. The question we have framed for this purpose and that we will hear debated tonight is this, Were Israel's actions in the war in Gaza justified? Let's meet our debaters answering yes to the question, were Israel's actions in the Gaza war justified? I want to welcome Ilan Levy. Thank you. Elon, you are the, you can stay with me here. You're the, you are, you're the former spokesperson for Israel in the October 7 war, co founder of the Israeli Citizen Spokesperson's office, host of the State of a Nation podcast. Welcome to Open Debate. And here to argue no to the question, were Israel's actions in the Gaza war justified? I want to welcome Mehdi Hassan. Mehdi, you are founder, editor in chief and CEO of Zateo, host of Al Jazeera's Head to Head, an award winning journalist. Welcome to Open to Debate.\n",
            "Speaker B: Thank you for having me.\n",
            "Speaker A: And gentlemen, thanks each of you for being here tonight. Let's start it with a handshake and then we can begin the debate.\n",
            "Speaker C: Glad to take this offline.\n",
            "Speaker B: Thank you.\n",
            "Speaker A: So let's get to our opening statements. We want each of you to take a few minutes to explain why you're answering yes or no to our question, were Israel's actions in the Gaza war justified? And when I say were, I just want to be clear. We chose that word. To talk about Israel's immediate actions after what happened on October 7, up through today, it's everything. It's not this moment, it's not that moment. It's the course of things. Ilan, you are up first. Your answer to the question is yes. The floor is yours. Please tell us why.\n",
            "Speaker C: On October 7, Hamas perpetrated an act of genocide against the people of Israel. Its death squads invaded with a clear mission to massacre as many people as they could, as sadistically as they could, and to take survivors as hostages. Hamas had a strategy to lure Israel into an urban war and generate enough suffering that the world would pressure Israel to leave Hamas alone, to do it again and again. Hamas slaughtered 1200 people on that day at a music festival. And in their beds, they cremated little children alive. They perpetrated barbaric acts of sexual violence. They beheaded, tortured, and mutilated their victims alive and dead. And they did it with glee. And then they took over 250 hostages, including little children, paraded them through the streets of Gaza to jeering crowds, hid them in tunnels and homes where they are being starved and tortured and raped and executed. It was the deadliest terror attack in world history after 9 11, the bloodiest massacre of Jews since the Holocaust, and the opening shot of the Iranian regime's regional war against Israel on seven fronts. At this point, Israel faced a choice, as Hamas immediately threatened to do it again and again until Israel was destroyed. To do nothing or to do something. Both would have consequences. Doing nothing meant letting Hamas get away with October 7th, leave it free to do it again and again, only this time with thousands of dangerous terrorists released from jail and with its popularity skyrocketing. That's not an option. Doing something meant targeting Hamas terrorists in accordance with international law in order to dismantle their ability to wage war and live out that threat. To do it again and again. That was the choice that Israel faced after October 7th. Now, after October 7th, that campaign to bring Hamas down and bring the hostages home was the only moral response. Hamas exists for the sake of war and for the sake of peace. It must go. Let me explain Israel's strategy. Israel's strategy is to get civilians out of harm's way so that it can target Hamas's terrorist infrastructure under their feet. Hamas strategy is to keep civilization civilians in harm's way so that it can use them to shield their military infrastructure. Israel left Gaza in 2005 and never wanted to go back. But Hamas seized power two years later, started firing rockets at our cities, and rigged Gaza's urban landscape for war. They dug a network of military tunnels, one and a half times longer than New York subway, under homes and schools and hospitals. They booby trapped tens of thousands of buildings. They started firing rockets at our homes and our towns from inside their schools and their hospitals. In response, Israel's actions are to target Hamas's terrorists and to take unprecedented efforts to keep their civilians safe from their own leaders. Sick strategy to sacrifice them on the altar of jihad. That's why it keeps repeatedly urging them to get out of harm's way from Hamas strongholds and flooding the area with over a million tons of aid. Because it keeps saying, this is a war against Hamas, not the people of Gaza. Now, the suffering of my neighbors in Gaza is horrific. I blame their psychopath leaders for launching this war, fighting it inside civilian areas, and refusing to release the hostages and surrender. Now, tonight's debate is about whether Israel's actions in the war in Gaza are justified in a context in which I hope we can all agree none of the enemy's actions are justified because we are fighting a jihadist army that has as much respect for humanity and law as Mehdi Hassan has for the truth. Mehdi may say, I condemn Hamas acts on October 7, but he will not condemn its strategy because he is part of of its strategy. Hamas is counting on its defense attorney to shield it from the consequences of the war that it started and deflect blame onto Israel so it can do October 7th again. Maybe because they share a goal that Israel shouldn't exist. Mehdi Hassan will say tonight that October 7th does not justify Israel's actions in this horrible war. My question then, is this.\n",
            "Speaker A: Elon, I'm sorry, your time is up.\n",
            "Speaker C: What does? October.\n",
            "Speaker A: I'm sorry, your time is up. Thank you. Mehdi. Elon, in already calling your opponent a liar, you have already crossed one of the lines of the culture that we try to establish here. I wish you hadn't. You don't.\n",
            "Speaker B: I don't mind. It's fine. It's fine. It's fine. I have to do that.\n",
            "Speaker A: You don't. You don't need to do that to make your case. Please. Mehdihasan, you are answering no in answer to the question, were Israel's actions in the Gaza war justified?\n",
            "Speaker B: All right, so, ladies and gentlemen, the question were they justified? Were the actions justified?\n",
            "Speaker A: And it would be great if you didn't feel the need to respond to the personal attack. A little wasted.\n",
            "Speaker B: We'll decide when we get there. John, were they justified? No, obviously not. Of course not. October 7th, I think we can all agree was a crime, a war crime. Right, we can all agree on that. And taking hostages is a war crime and those hostages should be released. But to destroy an entire place, an entire people in response is never justified. Never justified. How are we still. Deb, I don't understand how we're debating this. More than 40,000 deaths later. I don't understand how we're still debating this. Sitting in the comfort of New York, 7,000 miles away from a place that the UN Secretary General has called hell on earth. Justified? Justified? Was Israel justified in carrying out one of the most intense civilian punishment campaigns in history, according to Dr. Robert Pape at the University of Chicago, dropping 500 pound bombs, 1,000 pound bombs, 2,000 pound bombs on schools, hospitals, universities, bookstores, libraries, mosques, churches, refugee camps, apartment buildings, cemeteries, cemeteries. Destroying a higher percentage of buildings in northern Gaza than the Allies destroyed in Dresden during World War II, reducing Gaza to 42 million tons of rubble while they got people out of the way. How is that justified? Dropping a bomb, for example, on a six story apartment building in central Gaza last October, killing more than 100 people inside, including more than 50 children, with no Hamas target in sight, according to Human Rights Watch, with no explanation offered by the Israeli military even till today. Was that justified? Elon, was Israel justified in telling people to go to safe zones and then bombing them and killing them in those safe zones? According to NBC, there were seven deadly airstrikes between January and April in areas that the Israeli military had specifically designated as safe zones, killing Palestinian civilians like Sabrina saqqani, who was 30 weeks pregnant at the time she was killed in a safe zone in April. Her little baby, newborn baby, died less than a week later. Was that justified too? Elon? Was Israel justified in killing a record number of kids in Gaza? 16,000 children, turning Gaza into what the UN has called a graveyard for children, according to Save the Children. Killing more kids in the first three weeks that were killed globally in each of the past four years, killing little kids like six year old Hind Rajab and her 15 year old sister Leon, firing 335 bullets into the car they were in. 335 bullets and then killing the two paramedics who went to try and rescue them. Was that justified too? Elon, was Israel justified in killing a record number of aid workers in Gaza, right? A record number. Targeting, targeting again and again systematically, car by car, according to Chef Jose Andreas, a specifically explicitly marked World Central Kitchen aid convoy, killing seven aid workers in the process. Was that justified? Was Israel justified in starving the people of Gaza, using food and water as a weapon of war, to quote both the EU and Oxfam, Was Israel justified in blocking aid trucks from going into Gaza simply because they carry things like crutches, nail clippers, and even chocolate croissants? According to the Washington Post? Was Israel justified in raping, sodomizing Palestinian detainees who were charged with no crimes whatsoever, putting hot rods up their wrecked. Putting hot rods up their rectums, amputating their limbs, according to CNN and the New York Times? Was that rape and torture justified? Elon. I mean, Israel, According to the ICC chief prosecutor who put out a statement calling for the arrest of Elon's former boss, Benjamin Netanyahu, said that Israel may have military goals, legitimate goals, but the way they're carried out, killing innocent people, starving people, is criminal. He said criminal. Think about that. Elon Levy is a former spokesperson for. For a man who the ICC chief prosecutor wants arrested for war crimes. Elon himself has produced a number of lies. Sorry, John. In service of those war crimes, he has a bunch of tweets still up tonight which say that babies were beheaded on October 7. Babies were baked in ovens, babies were ripped from their mother's wombs. October 7th was bad enough, but Elon had to exaggerate it for atrocity purposes. Those tweets are still up. Why would you trust anything this man says to you tonight? Look, he's here. He's here. He's here to gaslight you to defend the indefensible, to excuse the inexcusable, to justify the unjustifiable. But you don't need to. Tonight, you can choose to be on the side not of cruelty, not of criminality, but on the side of the innocent people of Gaza who are being killed as we speak tonight, as we speak by Elon's former colleagues in the Israeli military on the orders of Elon's former bosses in the Israeli government. So, yes, I choose to oppose this horrific and homicidal motion. Thank.\n",
            "Speaker A: So we're. We're going to just. We're going to have a discussion with a little. That's a little bit looser in format, but the first thing I want to say to each of you is, you know, this mutual urination contest is not. Is not helping us understand the principles involved. All right? You think he tells untruths? You think he tells untruths? You don't need to keep hitting that point. I hope to make your argument. And again, it doesn't. It's not what we're about. Elon, I, I heard you in your, in your opening statement say that the only moral response was for Israel to try to take Hamas down and to get the hostages home. I heard your opponent say that the, the, the, the manner in which it's happening is just enormous overreach with enormous consequences for enormous number of people. People that he would certainly say, and I think a number of others would agree are innocent people. Not all of them, but some of them. And that, that represents an unjustifiable response. What we're talking about, it seems like, is proportionality. And I want you to address the issue of proportionality. This has been calculated in a number of ways. People have said that, as you said, it was the worst terrorist attack since 2000, since September 11, 2001. But others would say that the number of people killed on both sides is wildly out of balance and therefore disproportionate. There's an issue to be discussed here. There's a principle to be discussed here, and that's proportionality. And what, in your view, justifies the proportionality that Israel has stepped up to in its response? And again, because I want things to move back and forth, I'll probably jump in on you after about 90 seconds. Just so you have a sense.\n",
            "Speaker C: Israel's response is proportionate to the threat that we face, which is the threat of annihilation. After perpetrating the Savage Atrocities of October 7, the first thing Hamas did was deny that it did them. The second thing that it did was to threaten to do it again and again until Israel is destroyed. That is what is at stake if this war ends with Hamas free, emboldened, and empowered to perpetrate more October 7th massacres, thinking that the world will keep saving it from the wars that it started. Now, proportionality is a term in international law. It doesn't mean that if they kill a thousand people, you kill a thousand people and call it quits. It means that for each strike, the anticipated collateral damage, the damage to civilians cannot be excessive to the anticipated military goal.\n",
            "Speaker A: And your argument is that that has been the principle Israel has observed.\n",
            "Speaker C: Every military expert expert who has observed Israel's military efforts, including just recently in the Times, the deputy supreme commander of NATO has said that Israel is fighting in the most complicated urban battlefield that the world has ever seen. And he's satisfied that its rules of engagement and standard procedures are at least as rigorous as the UK and other Western allies. That's the former deputy supreme commander of NATO, Mari.\n",
            "Speaker B: So I actually, I actually, I actually Want to agree. I want to agree with something. Elon said. Proportionality is a difficult subject and we shouldn't talk about this in abstract. X number here, Y number there. Let's talk specifics. The problem with a lot of spokespersons of Israel, they want to talk in abstract. I want to talk in specifics. So if we talk about proportionality, we talk about discrimination, we talk about war crimes. Last October, shortly after October 7th, Israeli forces struck a three story residential building in Gaza City. They killed 15 members of the Aldos family. Seven children. According to Amnesty International. The survivors say no warnings. Elon told us there were warnings. No warnings were given to evacuate. Amnesty found no evidence of any military targets in the area. And Israel to this day has offered no explanation for that strike. So for the dead Aldos family members, Elon, can you tell us why they were killed?\n",
            "Speaker C: Mr. Hasan, the IDF does not ou immediate answers. And the fact that Amnesty speaks, the fact that local witnesses intimidated by Hamas does not mean that there was not a military target.\n",
            "Speaker B: But was there. But was there. Because Israel has never said it was a military target.\n",
            "Speaker C: Hamas booby trapped 40% of Gaza's buildings. It dug tunnels underneath homes and schools.\n",
            "Speaker B: We're back to generalities.\n",
            "Speaker C: No.\n",
            "Speaker B: Why did you kill 15 members of Iran?\n",
            "Speaker A: Let him.\n",
            "Speaker C: And I do not need to explain. Explain every single strike. No.\n",
            "Speaker A: Hold it.\n",
            "Speaker C: Because in this war, Israel is seeking to neutralize the threat of a terrorist army. Has a deliberate strategy. I'm going to have to get the MIC Civilians.\n",
            "Speaker A: Thank you. Sorry. Go ahead.\n",
            "Speaker C: Israel. Hamas has a deliberate strategy of sacrificing its innocent civilians. And this is a strategy that you are enabling by always deflecting blame onto Israel instead of considering the real question of why Hamas built its military assets into civilian areas. Under international law, Israel is obligated to give precaution where those feasible precautions are possible.\n",
            "Speaker A: Okay.\n",
            "Speaker C: And it has done that by.\n",
            "Speaker A: Let many. Come in, please.\n",
            "Speaker B: To be. I need to say two things. To be. To be clear. To be clear. Fifteen people were killed. Seven children. You were spokesperson for the Israeli government at the time. Israel has never given an explanation. When you say I do not need to explain myself. You literally do. You were the spokesperson for the government that committed a war crime and you came to a debate tonight to defend war crimes. So you literally do. Number two. Number two. You'll notice, John, how Elon quickly went to abstract generalities. Let's talk specifics. Let's talk about tunnels. I think it's abhorrent to hide tunnels under civilian targets. I wish they didn't do that. But when Israel shoots children in the head. Three American doctors went to Gaza. Dr. Fayar Sidwa, Dr. Irfan Gallaria and a Jewish American doctor called Dr. Mark Perlmutter. All of them came back at separate times. Said children were brought into hospitals. We were in with gunshot to the head. Sniper shots. Perfect exact targets. There is no tunnel that justifies shooting toddlers in the head. Israeli slices. Or you can tell us why you can defend them.\n",
            "Speaker A: Many, many. Forgive me for, for going abstract but I, I do want to go to some principles here. So you are listing a number of specific. Yes. Incidents that you feel cumulative add up to a very, very much an overreaction.\n",
            "Speaker B: War crimes, John, not an overreaction. War crimes.\n",
            "Speaker A: All right, you call them war crimes in not so much in the abstract but what would have been an appropriate response to what happened that would not cross the line to proportionality?\n",
            "Speaker B: It's a good question. It's a great question. So I'm not, I'll answer that in two ways. One is I'm not someone who has ever and you can look at my record on this, whether it's the uk, the US Both of my countries. I'm American, British. I've criticized targeted assassinations even by the US and the UK I'm the loser. And people in New York. There's going to be unpopular statement who says that people like Bin Laden should be tried, not assassinated. That's who I'm of a stinking liberal. But, but given we live in a world where America, Britain, Israel, multiple countries, India is now accused of targeting its enemies, killing. You could have tried to take out the leaders of the group without wiping out the entire place. I find it interesting that Israel. Hold on, hold on. I find it interesting that Israel was able to pinpoint kill Ismail Haniyeh in a house in a foreign country. But when it comes to Gaza, when it comes to the Gaza Strip, they had to wipe out the whole place. They had to reduce it to 42 million tons of rubble. And one final point. I just got on factual points, Elon. They're not your neighbors, they're people you occupy. Just to be clear.\n",
            "Speaker A: So I'm, I'm hoping you'll let point number two slide and please take on point number one. But Mehdi's saying that there would have been a self defense response that he feels might have been more appropriate that he also feels would have been within the capability of the Israeli military. What's your response to that?\n",
            "Speaker C: Notice the general pattern of argumentation we're seeing here. Gosh October 7th was terrible. Hamas shouldn't have done that.\n",
            "Speaker A: Gosh.\n",
            "Speaker C: Hamas built tunnels under score schools and hospitals. It shouldn't have done that. The question is what Israel may legitimately do once.\n",
            "Speaker A: No, no, no, no. That's not the question I asked you.\n",
            "Speaker C: No, but I.\n",
            "Speaker B: It's what you did.\n",
            "Speaker A: And his response?\n",
            "Speaker B: It's what you did.\n",
            "Speaker C: And Mr. Hasan's response is, well, if Israel could take out a terrorist leader thousands of miles away who wasn't expecting that he could be targeted, surely it can reach the terrorists who are hiding inside a bunker under a hospital, probably surrounded by hostages as human shields. Hamas rigged the battlefield. Hamas rigged the battlefield to shield its military assets under civilians, and it left Israel with no option of getting to those leaders.\n",
            "Speaker A: Okay, no option. No other option. No option is what your opponent is saying.\n",
            "Speaker B: First of all, as we've discussed, and I'm here all night, Elon can take his time. They kill 15 members of the DOS family, seven children.\n",
            "Speaker C: We can continue this at the reception afterwards if you want.\n",
            "Speaker B: I'll happily and ask you, why did government that you served in kill 15 innocent people in an apartment building?\n",
            "Speaker A: Hold on.\n",
            "Speaker B: This is very important. There's no evidence Hamas was there. He's not even tried to make that many.\n",
            "Speaker A: Just in the interest of time you've asked it. It's a. It's become a rhetorical.\n",
            "Speaker B: Crucial to the argument. He's saying there was no.\n",
            "Speaker A: When he says there was a building. When he says there was no other option. What is your response to that?\n",
            "Speaker B: Well, no one in the world agrees with that. That's why Israel's become a pariah in the world. Because even. Even.\n",
            "Speaker C: What was the option, Hassan? Even. What would. Even Joe Biden.\n",
            "Speaker B: Even Joe Biden, the most pro Biden. I already answered that question. Even Joe Biden, the most pro Israel president of my lifetime, who has backed Israel with weapons and arms, has gone on the record saying too much indiscriminate bombing. You've killed too many innocent people. Even the people on your own side say you're killing too many people, Elon.\n",
            "Speaker C: But, Mr. Hasan.\n",
            "Speaker B: Accept that.\n",
            "Speaker C: Mr. Hasan, too many people have been killed. The number of people who should have been killed is zero. Too many people were killed when Hamas's psychopath leaders. When Hamas's psychopath leaders who are funded by your paymasters in Qatar, maybe you share a slap.\n",
            "Speaker A: All right, all right. Let's.\n",
            "Speaker B: Let's please respond to that. I want to respond to that.\n",
            "Speaker A: No, no, no, no, no. It's another. It's another cheap shot, and I Don't want to entertain cheap shots. I want to go to you, Elon, with this question. When you say that the war is justified, killing and war can only be justified if it serves a greater good, what's the greater good that's being served at this moment?\n",
            "Speaker C: Mr. Donvan, this war is not justified because Hamas should not have started this war in the first place.\n",
            "Speaker A: Well, the question is whether. The question you are arguing, you are answering the question. Yes, Israel's actions are justified.\n",
            "Speaker C: The response is an attempt to Prevent the next October 7th massacre. On October 7th, Hamas showed us what it was capable of doing, and they immediately went on TV and said, October 7, October 10, October 1,000,000th, everything we do is justified. We are a nation of martyrs. They said, we're proud to sacrifice millions of martyrs if that's what it takes. And we are trying to stop, stop October 7th and to do so in a way that minimizes the cost to their civilians.\n",
            "Speaker B: Let me just deal with the last point and the previous point, which is the idea. Let's just. Let's just be real here. And a lot of military experts say this, but you don't even need military experts. You just need common sense. The idea that you prevent another October 7th or that you destroy Hamas by making tens of thousands of Palestinian children orphans is insane. It doesn't protect Israel. Forget Gaza. It doesn't protect Israel. And let me just deal with this classic. My paymasters in Qatar. Yes, I host a show for Al Jazeera. English. Let's just be very clear. In December, the New York Times published a very, very long piece.\n",
            "Speaker A: Come on, nobody very important here.\n",
            "Speaker B: Relevant to the debates. The New York Times.\n",
            "Speaker A: All right, make it relevant. Please make it relevant.\n",
            "Speaker B: New York Times published a very long piece which said a month before October 7, the head of the Mossad, David Barnier, went to Doha, Qatar, and the Qatari said, do you want us to keep sending money to Gaza? And he went back to Netanyahu. He said, what should I say? Netanyahu said, yes, please. And he went back, he said, yes, please, send the money to Gaza. Elon went to work for the government of Benjamin Netanyahu. A month after that words. He's never apologized for that to the Israeli people. Benjamin Netanyahu never apologized to that to the Israeli people. So if anyone should answer questions about Qatari funding of Hamas, allegedly, reportedly, whatever you want to call it, it's the Israeli government that facilitated it for many, many years. Elon was in that government. He's the spokesperson for that answer.\n",
            "Speaker C: It was a terrible Mistake to allow Qatari money into Gaza on the mistaken belief that if we improve civilian life in Gaza, create jobs, create opportunity, Hamas's psychopath leaders won't launch this war. They went straight on TV and said we tricked the Israelis. We made them think that we were concerned about the civilians in Gaza. All the while we were taking that money to build the tunnels and the weapons and the rockets we are firing at Israel. If we had known, Mr. Hassan, what Hamas was going to do on October 7th, perhaps we should have started a preemptive war to eliminate that threat before they could have burned the Simontov children alive on October 7th. But we didn't, okay?\n",
            "Speaker A: Hamas tricked us, and we won't repeat.\n",
            "Speaker C: The same mistake again.\n",
            "Speaker A: Timeout. Going to take a little bit of a 10 second breath and slightly lower the temperature, but only slightly. Elon, you were making the argument that Israel's actions are justified in the pursuit of the destruction of Hamas. We've come to the point, though, where even Israeli military officials are saying it can't be destroyed. Therefore, what happens to that argument? That the justification is the destruction of Hamas? If it's an organization, a movement that can't be destroyed, of course Hamas can.\n",
            "Speaker C: Be removed from power, just like ISIS was removed from power. ISIS is now a terrorist organization that is trying to blow up concerts in Austria. It no longer controls territory the size of Austria. Following this war, we cannot allow the Hamas territory terrorist regime. It's not an organization, it's a terror regime. And a terror army to regroup, restock, rearm and keep shooting rockets at our towns while it is still holding civilians. It is a regime that must be removed from power because we know exactly what it wants to do if given half a chance. And that is to do. October 7th again and again. And Israel's war. Mr. Hassan, I'll yield the stage to you and ask you. Eliminating the Hamas terror regime, removing it from power, a legitimate military objective, yes or no?\n",
            "Speaker B: Of course there's a legitimate military objective for Israel. And that's what I quoted the ICC chief prosecutor saying. But you're doing a very bad job of it.\n",
            "Speaker C: What's interesting, do I understand that after October 7th? Do I understand? No, because I want to clarify and understand. We're on the same.\n",
            "Speaker B: You want to clarify the guy who can't answer why you killed 16 civilians.\n",
            "Speaker C: We are on the same page. Do you agree?\n",
            "Speaker B: I'll answer your question when you answer mine.\n",
            "Speaker C: It was legitimate for Israel to remove the Hamas terror regiment in order to prevent another October 7th. It's a yes. Or no question, Mr. Hassan.\n",
            "Speaker B: No, it's not. It's a loaded question. I'm going to say it was legitimate for Israel to defend its citizens inside of Israel. It's not legitimate to occupy Palestinian territories for decades, decades on end. And let me answer if I can, Rabat. Let me answer John's question.\n",
            "Speaker A: Elon, you've had about two or three minutes in a row. Go on.\n",
            "Speaker B: You asked a very interesting question of Elon. You pointed out that he keeps saying, notice the sleight of hand. You said that. He said, and he said it many times, not just here, Hamas should be destroyed. When you asked him, Israeli military experts and generals say it can't be destroyed. Notice what Elon said. He said, remove from power, quickly, move the goalposts there, because he knows that Hamas can't be destroyed by these means. In fact, the former head of Israel said from the beginning, the former head of Israel's military, who was a member of Netanyahu's war cabinet, he said earlier this year, quote, anyone who says you can destroy Hamas is telling tall tales. So it's not me calling Elon Levy a liar. It's the former head of the Israeli military.\n",
            "Speaker C: Mr. Hassan. From the beginning. From the beginning, Israel has said that its goals are to remove Hamas from power and dismantle its ability to wage war again and to live up its threat of. Repeat, October 7th. And that is why I ask you, after October 7th, was it legitimate for Israel to remove Hamas from power in order to eliminate the threat of repeat, October 7, yes or no?\n",
            "Speaker B: Very simple answer. Israel has the right to defend its citizens in its territory. It doesn't have a right to be an occupier. Doesn't have a right to the point because you think they're your neighbors. The International Court of Justice says Gaza and the west bank are occupied. They've been occupied every day since 1967. You did not withdraw in 2005. You blockaded.\n",
            "Speaker C: I'd like to explain. I'd like to explain what the purpose here is.\n",
            "Speaker B: And I've already. Legal fiction, and I've already answered the question. Elon. I've made the point that even if I was an Israeli general trying to destroy Hamas, killing thousands of innocent people only helps Hamas. Every terrorism expert in the world says you're a recruiting sergeant for extremist groups when you go and kill innocent civilians.\n",
            "Speaker C: Mr. Hassan.\n",
            "Speaker A: Time out. Time out. Time out. Time out. Time out. Time out. Elon. Elon, time out. I have a question for whoever wants to jump on it. Is Israel's War in Gaza making Israel more secure.\n",
            "Speaker C: When this war began, Hamas had a fearsome missile arsenal that rained thousands of missiles on our cities. I had to keep running into a rocket shelter. Israel has now eliminated. Israel has now eliminated the threat of rocket fire from Gaza. It has cut off its smuggling roots. It has destroyed its missile silos, and it has destroyed Hamas's weapons capabilities. That alone has made us safer and makes it easier to sleep in our beds.\n",
            "Speaker B: A couple of so, three quick things. Number one, the Israelis went to Supreme Court recently, and they were having an argument in Israel's Supreme Court, and they put in the official filing that we do not control Gaza. Even after all this time, Hamas is still in control of lots of parts of Gaza. So they say the honest stuff when. When you're not looking. Number two. Number two, I interviewed Amy Aylon recently, former head of Shin Bet, former Israel. He said very explicitly, israel will not be safe until we give Palestinians freedom. This is his words, not my words. And number three. And number three. Number three, I'm glad you had a bomb shelter to protect you, because the Aldos family in Gaza did not have a bomb shelter to protect them.\n",
            "Speaker A: Okay, Another question. We have not. We have not yet talked about the hostages, and we should. Is Israel's action in Gaza going to. Is it for the benefit of the hostages?\n",
            "Speaker C: Absolutely. Israel is fighting to bring the hostages home while Hamas is starving and torturing and raping them. We managed in November because Hamas was being clobbered and it wanted a breather. They released nearly half of the hostages. We've sent in special forces to rescue hostages in raids my opponent has condemned. Israel is fighting to put the military pressure on Hamas to release the hostages. But Hamas doesn't want to release the hostages. And the reason it doesn't want to release the hostages is that it knows that the longer this war goes on and the more suffering it generates among its own people in Gaza, the more it advances its own goal of isolating Israel. And Mr. Hassan, it. It pains me that you do not seem to realize the role that you play within Hamas's strategy when you deflect blame onto Israel. Never demand any accountability. Never demand any accountability from the Hamas regime. When you know that Hamas goal is to maximize suffering, you give it a reason to drag on this war. If you wanted to let the hostages.\n",
            "Speaker B: Go, you should tell of all nonsense.\n",
            "Speaker C: Hamas to free the hostage.\n",
            "Speaker B: Of all the demonstrably untrue things you've said tonight, this is the big one. So. So apparently, if you want a deal to end the war. You're enabling Hamas's strategy. No, that's what you just said. I'm enabling Hamas strategy, so.\n",
            "Speaker C: But you have systematically undermined every leverage Israel has to.\n",
            "Speaker B: You know who's undermining.\n",
            "Speaker C: Stop pretending. Not the hostages.\n",
            "Speaker B: Of the two of us. Hold on. Of the two of us. Of the two of us. Whose strategy has released more hostages? Mine or yours? Because I supported a ceasefire and we got. We got. Hold on.\n",
            "Speaker C: Your strategy is to give.\n",
            "Speaker A: Can I let him Finish, please?\n",
            "Speaker B: Over 100 hostages were released last November in the pause in the ceasefire deal. A lot of Israelis wanted that to continue. Hostages families wanted that to continue. Yes, Netanyahu. Can I finish my answer? Netanyahu said no. In fact, I interviewed Zahir O'Moore, whose uncle, Avraham Munda, was horribly killed in Gaza. Zahir O'Moore, by the way, was arrested today. He's been arrested and attacked by the Israeli government that Elon served in multiple times. He said to me, netanyahu and the government, the government that Elon was part of, always choose the wrong way. Ever since October 8th, everything they do is directed at not getting the hostages back. That is the plain truth. That is the nephew of a hostage. They don't want you to hear about the hostage hostages. Elon. And people like Elon use the hostages as political pawns. The hostages families are standing on the streets of Tel Aviv opposing the Netanyahu government, calling for a ceasefire, calling for a deal. They don't like Elon leaving.\n",
            "Speaker A: They don't support Aylo.\n",
            "Speaker C: Mr. Hassan, how many hostages rallies have you spoken at? How many hostages mothers have you embraced and hugged them and told them, I went here for you, whatever you need. I was at Central Park. I was at Central park last Sunday. Had the rally for the hostages. You are not Mr. Has. You really care about the host, their hostage pin. If you want to show them you care, you're welcome to.\n",
            "Speaker B: All right, let's. This is fantastic. Let's go. So put it on.\n",
            "Speaker C: Show them you care. Show them you care. I am in daily contact with the family. I tell them I will do. Do whatever it takes to help you get your kids home. Show them you care. And stop trying to exploit these.\n",
            "Speaker A: Okay, okay. Elan, allow him to respond. You've got your bit of stagecraft. Please take it.\n",
            "Speaker B: Let's be clear. Let's be clear. Let's be clear. You saw the very, very performative outrage there from Elon. There to be clear. Don't you lecture me about hostages when your government has killed more hostages than it is rescued. That's on you. That's on you.\n",
            "Speaker C: That is on. That is on.\n",
            "Speaker B: This.\n",
            "Speaker A: All right, all right, all right.\n",
            "Speaker B: I need to finish this.\n",
            "Speaker A: I'm going to let you finish this point and then we're moving on.\n",
            "Speaker B: I will happily support this pin because I support the release of all the hostages and. No, no, no, let me finish. Let me finish. And I support. I support the release of thousands of Palestinian detainees being raped and tortured and children. Do you support that? Let's wear it together. Do you support the young? Do you support the release of Palestinians?\n",
            "Speaker C: I do not support.\n",
            "Speaker B: Do you support the release of terrorists? Of Palestinian children? Do you support the release of Palestinian children?\n",
            "Speaker C: Mr. Hassan, anyone who is here, let's.\n",
            "Speaker A: Get some space here.\n",
            "Speaker B: You can't answer the question.\n",
            "Speaker C: Mr. Hassan, he won't put on the hostage.\n",
            "Speaker B: I support the release of all innocent people. That's all you've got gimmicks.\n",
            "Speaker C: Once again.\n",
            "Speaker A: All right, all right, all right, all right. I have one more question before we pivot to some questions from some journalists who are joining us. And I want to talk about America's involvement in the situation. The US has been largely supporting Israel. If the war in Israel is unjustified, that implicates the US in an unjust war. If the war is justified, then we have an ally that requires our help. Which is it?\n",
            "Speaker C: I'm sorry, I didn't hear the question.\n",
            "Speaker A: We have. It's about US Involvement in the war. If the war is unjustified, that implicates the US in an unjust war. If it's justified, we have an ally that requires our help.\n",
            "Speaker C: When this war began, President Biden said that Israel is facing sheer, pure, unadulterated evil. It was so obvious in the moment of shock after a October 7th that for Israel to defend itself, it has to dismantle the Hamas terror regime. That President Barack Obama said we must stand by our ally Israel, as it dismantles Hamas. The United States has made valuable support to Israel in its goal of bringing down the Hamas regime. What we need is pressure on Hamas and its patrons, Qatar, Turkey and Iran to let the hostages go. That pressure has not been forthcoming.\n",
            "Speaker B: Before I came on stage, Gershon Baskin, who is Israel's most famous hostage negotiator, he whatsapped me and said he's got a deal, three week deal on the table with Hamas that Hamas has agreed to to release all the hostages and end the war. He says it's with Netanyahu. The bulls in Netanyahu's court so when he keeps going about hostages, tell him to speak to his former boss to agree to a hostage.\n",
            "Speaker C: Gershon Baskin is the negotiator in whose deal to free Gila Sinwa.\n",
            "Speaker B: As for the United States, it is tragic to me as a citizen of the United Kingdom and the United States, that my two countries have armed Israel as it carries out what the ICJ has called a plausible genocide as it arms a prime minister who is wanting for war crime. The ICC chief prosecutor has called for the arrest of Yoav Gallant and Benjamin Netanyahu. The American government should not be arming a man wanted for war crimes. And Elon Levy should have began his speech tonight apologizing for working for a man who is wanted for war crimes by the ICC chief prosecutors.\n",
            "Speaker C: Mr. Donmer, you called me to account at the beginning of the debate and said I should not have called my opponent a liar. The former president, president of the icj, Joan Donahue, had to go.\n",
            "Speaker B: Many other judges disagreed with, to go on tv. The American judge who let him speak.\n",
            "Speaker C: Did not define there was a plausible genocide. He had to go on TV to refute the lie. The only reason for you to make.\n",
            "Speaker B: That the ICC chief prosecutor whose arrest.\n",
            "Speaker C: Warrant claims were based on lies.\n",
            "Speaker A: All right, this is not helping. We are. We are not able to hear what anybody is saying. We're not able to hear what anybody's saying. You're both talking at the same time, and I'm talking at the third time, so let's stop this. I have a question for each of you before we pivot, which I would. I would. I want to ask you if you can answer without. Without attacking one another. And I'm also curious to see if you can do it in under 20 seconds, because we're just curious. Each of you came to this debate and by your decision to participate. We know, we saw on social media that both of you were attacked by. By members of your own camp for being even on the stage with somebody who's holding the opposing view. But you showed up anyway. Elon, why did you show up? 15 seconds.\n",
            "Speaker C: Because Iran, the Palestinian nationalists and their allies are waging a war of misinformation that has one purpose. They want to destroy Israel. And they think it will be much easier to destroy Israel if they convince the world that Israel deserves to be destroyed. A full campaign of the most ridiculous lies to try. Tried to convince good, ordinary Americans that when they're ready to pull the trigger and massacre us once more, they should stand to one side and say, well, the Jews had it Coming. And I'm not willing to allow that to happen.\n",
            "Speaker A: Sorry.\n",
            "Speaker B: Okay, just a 20 second answer. Yeah, I mean, look, I believe that what is happening in Gaza, the killing of 16,000 children, the genocide in Gaza, is the great moral tragedy of our time, the great crime of our time. And I will go almost anywhere and take a stage with almost anyone to try and bring that war to an end and convince people that the war needs to end.\n",
            "Speaker C: Now, may I add something?\n",
            "Speaker A: No, no. We have to move forward. All right. We're going to bring in some other voices now. We have some journalists. We have four journalists who are each going to ask one, I hope, very short question. There are people who have been writing about the area for a long time, particularly about the situation now, and they are certainly not monolithic in their own views. I first want to go to Peter Beinart. He's a journalist who's written for Time, the New York Times, the Atlantic. He's former editor of the New Republic and editor at large of Jewish Currents. Peter, if you can stand up, there's a microphone, I believe, in the aisle for you and ask your incredibly short question.\n",
            "Speaker D: Thank you. Elon, you suggested that the goal of the war was to depose Hamas from power. But on October 11, Benjamin Netanyahu said the goal of the war was to Destroy Hamas. On Oct. 12, Yoav Gallant said the Defense Minister said the goal was to wipe it from the earth. Because I think they understood that even deposing Hamas would not necessarily make Hamas less of a fearsome threat. The Taliban didn't become less of a fearsome threat to the United States once they stopped holding power. Saddam and his forces didn't become less of a fearsome threat once they no longer held power. They recognized that winning this war meant destroying Hamas. And yet, your own former colleague, Daniel Hazari.\n",
            "Speaker A: What's your question?\n",
            "Speaker D: It's not possible. To be clear, I'd like you to be on the record. Do you think it's possible to destroy Hamas, or were Netanyahu and Gallant wrong?\n",
            "Speaker C: I believe it is possible to remove the Hamas terror racial power. Whether leaders used belligerent rhetoric that exaggerated the goals of the war. No. Look, Hamas needs to be destroyed. It's an idea. Some ideas deserve to be destroyed. And whether that idea is destroyed or not depends on the lessons that the people of Gaza take from this war. Will they conclude that terrorism is a dead end? That their leaders have repeatedly led them into disaster after disaster as part of their forever war against the Jewish state in any borders whatsoever? Or will they Take the lesser. That in fact they were rewarded for the October 7th massacre. That is what is at stake here. And we are trying to convince the people of Gaza terrorism is a dead end. There is no light at the end of that tunnel.\n",
            "Speaker A: You also get to respond. You can respond.\n",
            "Speaker B: I mean, I think Peter made the point very eloquently. It's a nonsensical war aims. The real war aims, of course, are what the Israeli ministers say. When Smotrich says the aim of the war is to annihilate Gaza, that is the aim.\n",
            "Speaker C: I take him at face value.\n",
            "Speaker B: He literally miss that. And when they say this stuff, when they talk about resettling Gaza, when they talk about staying in Gaza, that is what they mean. Can I finish an answer?\n",
            "Speaker C: Government policy and those against government.\n",
            "Speaker B: I would just say this.\n",
            "Speaker A: Yeah, let him say this.\n",
            "Speaker B: You want to convince the people of Gaza that terrorism is a dead end, then stop inflicting terrorism on them.\n",
            "Speaker C: Every accusation is a confession. How many?\n",
            "Speaker A: Our next question comes from Gillian Lederman. Gillian is an editorial fellow at the Wall Street Journal, former chief executive, executive chair of the Israel Leadership Network. Gillian, thanks for joining us. And what's your question? Thank you. My question is, given the current circumstances.\n",
            "Speaker C: Do you believe that Israel pulling out.\n",
            "Speaker A: Of Gaza in 2005 was the right decision? Who's.\n",
            "Speaker B: That a question?\n",
            "Speaker C: It's a difficult question.\n",
            "Speaker A: Let me just ask you, Jillian, Are you pointing that to anybody in particular? Both can answer it, but okay.\n",
            "Speaker C: Israel withdrew from the Gaza Strip in 2005 and never wanted to go back. It gave them Gaza. They had the option to turn it into Singapore. They chose to turn it into Mosul. They could have had a thriving state in Gaza after Israel pulled out and Jewish organizations paid to donate the greenhouses. Instead, they chose to rig Gaza for war. The tunnel network under Gaza is the largest public war works project the Palestinians have ever undertaken. They did it for the sake of the October 7th.\n",
            "Speaker A: Was it. Was it a mistake to pull out? That was the question.\n",
            "Speaker C: I don't know.\n",
            "Speaker A: Okay, no, fair enough, fair enough.\n",
            "Speaker B: Simple answer is, of course Israel did not pull out of Gaza. As the ICJ has pointed out just recently, Gaza is occupied territory. Let me put it very simply to you. What. What Elon doesn't tell you is when they pulled out, they kept control of Gaza's land borders. Not with Egypt. With Egypt. Israel and Egypt, land borders kept. Have you noticed? Len should answer without an interruption. The land borders, the sea waters, the air. And wait. Wait for it. Wait for it. And the population registry, if you're Born in Gaza, you have to be registered with the Israelis. If you were born in New York and your birth had to be registered with a foreign country, would you say you were occupied or not occupied? Would you say you're a free people or an unfree people? It's an absolute lie. The occupied never ended.\n",
            "Speaker C: Israel ended the occupation of Gaza in 2005.\n",
            "Speaker B: Let me interrupt you.\n",
            "Speaker A: No, no, no. Hold it, hold it, hold it, hold it, hold it. We are done with the interruptions. It's just destructive. So you go.\n",
            "Speaker C: The population registry isn't an interesting question because Israel runs it in cooperation with the PA as part of the Oslo Accords. Hamas is free to run its own population registry because it has effective control inside Gaza. Under international law, occupation requires the effective control of territory everywhere in the world. It is understood to mean boots on the ground. And the only reason to fabricate a new standard, to say that just because Israel doesn't allow Hamas to build an Ismail Haniya International Airport means that it is occupied, is as part of a campaign to try to make Israel responsible for civilians in Gaza so Hamas can take the resources.\n",
            "Speaker A: Okay, funnel them into the machine. We're losing sight of this question.\n",
            "Speaker B: Just briefly, very briefly, Elon, a moment. A moment ago. A moment ago, you all heard him proudly quoting the former president of the icj. The icj, literally, the other day, said, Gaza is occupied. But Elon and I went to the same university. We did the same degree. He didn't do law. He's not a lawyer. The ICJ says Gaza is occupied. It's over. The debate's over. You've lost that one.\n",
            "Speaker C: No, that's not the end. That is not the end. Because a basic principle of the ICJ disagrees.\n",
            "Speaker A: Jillian, do you feel that your question was answered? Was it a mistake to pull out of Gaza? Because I don't. But we're going to move on. Thank you for the question. It would be helpful. And I realize you're both very passionate and have a lot to say about this, but it would be helpful, at least at the beginning of your answers, to stick to the questions.\n",
            "Speaker B: I did. I said they didn't pull out because they never pulled out. I mean, accept the premise of.\n",
            "Speaker A: All right, fair enough. You, question. Next up, next up. Next up.\n",
            "Speaker C: It ripped people out of.\n",
            "Speaker A: I know, I know, I know, I know. I was there. I was there. I witnessed it.\n",
            "Speaker C: He witnessed it. Mehdi. It happened.\n",
            "Speaker A: The party you're talking about. Next up, we have Dean Obedalla, a lawyer, a comedian, and the journalist who is host of The Dean Abodela show and a frequent commentator on C. Cnn, MSNBC and the Daily Beast. Dean, thanks for joining us.\n",
            "Speaker B: Thank you.\n",
            "Speaker C: I have a question for everyone.\n",
            "Speaker B: You've defended everything the Israeli military has done, everything. And Mehdi's gone through it. My family lives in the West Bank. My question is, is there anything that you would condemn Israel for in terms of killing Palestinian Christians and Muslims?\n",
            "Speaker C: Or are they all inhuman in your.\n",
            "Speaker B: View and not worthy of. Of any sympathy, dignity or self determination as a people?\n",
            "Speaker A: All right, all right, hang on a second. Hang on. I have an issue with the question. The first part of the question. Is there anything you would condemn from Israel? Legitimate question. But the assumption that if he feels differently, that he has no sense of the humanity of Palestinians is a bit of some baggage loaded into the question. So why don't you take the question, is there anything that Israel is doing that you would condemn?\n",
            "Speaker C: I have gone on TV as a government spokesman when the army said that there was a particular mistake and a certain target should not have been hit. We fess up and admit our mistakes because that is what a responsible military should do.\n",
            "Speaker A: You can actually.\n",
            "Speaker C: Okay, but Israel is fighting an enemy whose use of war crimes is strategic and systematic. They're not investigated. On Hamas end, no one is ever called to account its use of war crimes against its own civilians while they hide behind them in their schools and hospitals to fire at us is strategic and systematic. And so I stand by my country as it fights to use proportionate force to dismantle the Hamas army of terror. Because yes, my neighbors are human. Okay, because sounds like better future.\n",
            "Speaker A: I have a very important technical program note. I've received a message that the audience clapping volume is so loud that in the recording, very frequently it's been impossible to hear what our debaters are saying.\n",
            "Speaker B: Don't clap.\n",
            "Speaker A: And so what I would like you to do is to clap in between their points. Let them finish and then go for it, please.\n",
            "Speaker C: The gentleman challenged my humanity and I would like to defend it.\n",
            "Speaker A: I tried to let this.\n",
            "Speaker C: I want a future of peace between us and our neighbors. That cannot happen as long as the Hamas terror regime is okay.\n",
            "Speaker B: On the subject of. I'll wait for the applause. On the subject of Elon's humanity, I asked him earlier if he supported the release of Palestinian children. He refused to say so he can. Tonight we'll all wear this pin. Mr. Hassan and his children, let me say it's on the West Bank. He cannot help but cherry pick the evidence. He cannot pick help but cherry pick the evidence he just said a moment ago he tried to gaslight you. He said Hamas is never held to account. Actually, the chief prosecutor of the International Criminal Court gave out five arrest warrant requests. Three for Hamas, two for Israel. I support all of those arrest warrant requests. Do you?\n",
            "Speaker C: Do you, Mr. Haskell?\n",
            "Speaker B: Do you? It's a yes or no question.\n",
            "Speaker C: Every single lie. Yes or no question. Every single lie.\n",
            "Speaker B: You support accountability for all of them? Absolutely.\n",
            "Speaker C: But you and what arrest warrants for net.\n",
            "Speaker A: Wait, wait, wait. Now we can't hear what you're both saying.\n",
            "Speaker B: Support arrest warrants for Netanyahu?\n",
            "Speaker C: No, Mr. Hassan, because every single line. Every single line in the request.\n",
            "Speaker A: Wait a minute, wait a minute.\n",
            "Speaker C: By the prosecution is based on lies. Like the allegation of starvation. Impossible to reconcile with over 1 million tons of aid that have entered Gaza since the start of this war.\n",
            "Speaker B: 2,069 trucks right now.\n",
            "Speaker C: Did you know that, Mr. Hassan?\n",
            "Speaker B: 69 trucks according to 15. According to 15 aid agencies.\n",
            "Speaker C: Who are.\n",
            "Speaker B: Who should we believe? 15 or you and net.\n",
            "Speaker C: Mr. Hassan. Who are they believe, Mr. Hassan? 15 agencies or you? These aid agencies are quoting. UNRA's statistics are accurate. Yes or no?\n",
            "Speaker B: Actually, no.\n",
            "Speaker A: Excuse me. Wait a minute. Wait a minute. Wait a minute. Wait a minute, wait a minute, Wait a minute, Wait a minute. Wait a minute. Wait a minute, wait a minute.\n",
            "Speaker B: It's a lie.\n",
            "Speaker A: Is this helpful? Yes, for some.\n",
            "Speaker B: Okay, well, lies need to be stopped.\n",
            "Speaker A: I just. I would just like to ask you to take turns.\n",
            "Speaker B: Okay.\n",
            "Speaker A: And not talk at the same time. You're doing worse at waiting. Get better.\n",
            "Speaker C: Over 1 million tons of aid now, according to Mr. Hassan, I don't know what double digit number he quoted comes from UNRWA. UNRWA's own dashboard on its website says that this is an incomplete register of data that it cannot monitor. All the cargo going in. Israel is monitoring it. UNRWA is undercounting it by a factor of 10. That's how you get to the bizarre statements like imminent famine in Gaza, because the IPC review committee said that that assessment was based on not counting all of the trucks that have gone in. They literally undercounted trucks in order to make this horrific allegation of starvation.\n",
            "Speaker B: So the entire.\n",
            "Speaker A: Elon, your point.\n",
            "Speaker B: Your point was made so you just began the whole answer premised on a line. It's not based on onerous statistics. It's based on their own experience at Israeli crossings. David Miliband. Alon. David Miliband, a man. You know, we're both British. In front of this audience David Miliband was the former foreign minister of the uk Very pro Israeli politician, served under Blair and Brown, not some Palestinian lover. David Miliband said on cnn, our trucks are being stopped because they're finding a tiny little surgical scissor or a nail clipper and they're sending the trucks back. David Miliband is not so a hater of Israel. Cindy McCain is the head of the World Food Program. She is the widow of the most pro Israeli senator of my lifetime, John McCain. She has accused Israel of blocking aid trucks, killing aid workers, starving children. Cindy McCain is not UNRWA or Hamas.\n",
            "Speaker A: Gene, Gene, we are a long, long way from the question you asked. I don't know. That's bad moderating. I'm sorry that I. We have another question from John Levine. John is a political reporter for the Sunday New York Post. He has credits on CNN.com, the Atlantic, the Chronicle of Higher Education. John, thank you for joining us and come on in with your question. If you could stand up.\n",
            "Speaker E: Thank you both for being here. My question is for Mehdi. I actually, I think it's an easy question, so I hope we can get a direct answer. I'd like to ask you about your new media startup, Zateo. In May, Rolling Stone reported that.\n",
            "Speaker A: John, this has got to be on the point. Where it is debate relates to Qatar.\n",
            "Speaker E: Which I believe was brought up in the debate.\n",
            "Speaker A: We're debating whether Israel's actions were justified. That's not on point. I'm sorry, I got to pass on it.\n",
            "Speaker B: I'm happy to. I'm happy to take the question, John. I'm happy to take the question. I'm happy to.\n",
            "Speaker A: We're not, we're not here to. We're not here to talk about your career. I know you are, and I'm not. So I'm sorry. John, if you want to come up with a question that's on point about Israel's actions in Gaza, go for it, please. Yeah, I can, because this is a debate where you ask questions.\n",
            "Speaker B: I mean, I. Now I really want to ask the question. I'm just curious. I just want to answer the question.\n",
            "Speaker A: You can talk afterwards. All right.\n",
            "Speaker B: I mean, the dude works for the New York Post. I prefer not to talk to him, but not my debate.\n",
            "Speaker A: Thank you. Thank you. All right, we are coming down to the end for our closing statements. And that's where each debater has the floor again exclusively to make their case. One more time for you, Elon, you're up first in this. One more time to remind people I think they know that you're arguing that Israel's war in Gaza. I'm sorry, Israel's actions in Gaza are justified. You can take the floor. And you have two minutes to tell us why. Two and a half minutes. Tell us why.\n",
            "Speaker C: After the sadistic massacre of October 7, Hamas immediately told us, if you leave us on our feet, we will do this again and again. It wasn't enough to cremate little children. It wasn't enough to commit acts of gang rape, rape, pedophilia, necrophilia. It wasn't enough to gag people, bind them, tie them to trees, and strip them. They told us, we're coming for you if you leave us on our feet. We will do this again and again. This war has been horrible. We have paid a horrific price for it. We are trying to prevent the threat of a repeat October 7th massacre. And we are fighting a sadistic enemy that wreaked the battlefield in a way. That said, we've hidden our military assets under civilians. The only way that you can get to us is by going through civilians. And that's why Israel has taken more actions than any military in the history of the world. And so every commander from Afghanistan and Iraq will agree in order to keep the civilians safe from their own leaders. Sick strategy of trying to sacrifice them. That is why it keeps telling them to evacuate. It never designated a safe zone where Hamas terrorists could abuse hostages with impunity. It told them to go where it is safer, where it is safer and where Hamas is not. And on every occasion, on every occasion, it has been stymied by UN agencies saying, no, Keep them in Hamas strongholds. By Hamas trying to fight to keep them in the strongholds while we try to keep them safe from their own psychopath leaders. I asked Mr. Hassan, removing Hamas from power, legitimate, yes or no. And he wriggled out of it. He said, well, defending Israel is legitimate, but not the point. You go into Gaza, okay? His response? End the occupation. Let Hamas have an Ismail Haniyeh international airport. Let it have a Mohammed Dev naval base. There is nothing you can do with a terror regime that is sworn to your destruction, whose goals are legitimately genocidal. We need this war to. To end, but we need this war to end in a way that ensures that Hamas cannot restart it at a time of its choosing. Feeling emboldened and empowered because of international pressure generated by people like Mehdi Hassan to keep saving it from the wars that it starts.\n",
            "Speaker A: And I guess you could say it. And Mary Hassan, you have the final word in this debate, one more time, your argument for why Israel's actions in the Gaza war were not justified.\n",
            "Speaker B: Ladies and gentlemen, were the actions of Israel in Gaza justified? Look, the argument is pretty simple tonight and pretty hypocritical. From Elon. What we've heard tonight is that October, that nothing justifies October 7th, but October 7th justifies everything. Well, I'm here tonight to tell you, no, October 7th does not justify everything. It does not justify the suffering in Gaza. It does not justify the killing of kids in Gaza. It does not justify the starvation in Gaza. It does not justify the rape and torture of Palestinian detainees, which Elon refused to condemn tonight. It does not justify any of that. It doesn't justify the tearing up of the Geneva Conventions, the defiance of international law and the ICC, and our own Lehi law. Yes, October 7th was a war crime, but the response to a war crime is not to commit your own series of war crimes on an epic scale. 33 times as many people killed since October 7th as were killed on October 7th. And I'll say this to you, look very, very clearly. If you support this motion tonight, you are opening the gates of hell, not just in Gaza, but globally. Because every dictator and tyrant around the world will say, Israel's actions were justified. Then so are mine. Putin, Assad, Kim, they'll all say, Israel killed kids. Israel killed aid workers. Israel killed journalists. So can we. And I will be. I will be very clear. I will be very clear with you tonight. If you are here tonight, ladies and gents, if you're here tonight to defend what Israel's done, knowing full well what Israel has done, if you're defending the human suffering in Gaza, the amputation of little kids, if you're doing that in full knowledge, then you're not just here to defend the indefensible or justify the unjustifiable. I'm sorry. You're a sociopath. And I will say to you, don't, Please, please, please don't be a sociopath tonight. Don't support war crimes. Don't defend a genocide. Join me and every human rights organization in the world, every humanitarian aid agency on the planet, every American doctor and nurse who's been out to volunteer in Gaza. Join us in opposing this ridiculous and offensive and horrendous motion. And on behalf of the Aldos family, who Elon clearly doesn't give a damn about, I beg to oppose this motion.\n",
            "Speaker A: I am. I am. I am curious. Did anybody have their minds. Did anybody have. Did anybody have their minds changed tonight by anything they heard? Wow. All right, thanks. Thanks. John Levine. Yeah. Yeah, so here's the thing. The reason I turned on John's question, we really try to preserve the integrity of what a debate is supposed to be. And it's supposed to be about the question and it's supposed to stay on the question. It's supposed to avoid personal attacks. But you came all this way and Mehdi would actually, it seems like, to answer the question. So go for it. This is an extra.\n",
            "Speaker E: You were accused of being in the pay of. Elon accused you of being in the pay of Qatar. Earlier you took objection to that. I'd like you to be able to dispel that you're taking any money from Qatar by confirming that you're not taking money for Zateo, for Qatar. Is Qatar funding Zatteo, yes or no?\n",
            "Speaker B: It's a great question, John, because you work as a media correspondent for the New York Post. No, I'm not. I'm answering your question. Patience. We waited for you. You're a media columnist for the New York Post, were you not?\n",
            "Speaker A: I.\n",
            "Speaker E: Political reporter for the New York Times.\n",
            "Speaker B: You were at one time a media columnist. You should read the Washington Post interview that I did literally when Zatay was founded. And Jeremy Barr, an excellent reporter, slightly better one than you. He asked me. He asked me that question, and I said no, we haven't taken any money from foreign governments or foreign citizens. Every investor in Zateo is an American citizen, has nothing to do with Qatar. So nice try. Better luck next time. By the way. By the way, by the way, since we're all in the spirit of asking questions, how do you feel about taking money from the racist Rupert Murdoch every day? All right.\n",
            "Speaker A: All right, all right, all right, all right. I regret taking that question. I regret the Times this debate failed to be high minded by two people whom I otherwise respect. And I want to say that concludes our debate. I want to thank our debaters, Ilan Levy and Mehdi Hasan. We appreciate that you did show up and that you at least talked, maybe not to one another, but at one another, vigorously and vociferously. And in fact, you were listening to one another, if only to counter, but you were listening to one another. And I think that's progress. And I want to thank all of you in the audience for being here and being open to debate. And I want to thank all of the journalists who joined us as well for moving the conversation in a more interesting direction. So that is a wrap on this debate. We're open to debate. I'm John Donvan we'll see you next time.\n"
          ]
        }
      ],
      "source": [
        "\n",
        "# Step 4: Configure transcription with speaker diarization\n",
        "config = aai.TranscriptionConfig(speaker_labels=True)\n",
        "\n",
        "transcript = transcriber.transcribe(\"/content/audio.mp3\", config)\n",
        "\n",
        "\n",
        "# Step 6: Print the transcription with speaker labels\n",
        "print(\"Transcription with Speaker Labels:\")\n",
        "for utterance in transcript.utterances:\n",
        "    print(f\"Speaker {utterance.speaker}: {utterance.text}\")\n"
      ]
    },
    {
      "cell_type": "markdown",
      "id": "a7834183",
      "metadata": {
        "id": "a7834183"
      },
      "source": [
        "### Step 4: Save the Transcript\n",
        "Save the transcription as a text file for further use."
      ]
    },
    {
      "cell_type": "code",
      "execution_count": 6,
      "id": "8380a438",
      "metadata": {
        "colab": {
          "base_uri": "https://localhost:8080/"
        },
        "id": "8380a438",
        "outputId": "b286460e-108b-4b25-ea0e-82ef2afcecef"
      },
      "outputs": [
        {
          "output_type": "stream",
          "name": "stdout",
          "text": [
            "Covid Debate.txt\n"
          ]
        }
      ],
      "source": [
        "# Step 7: Save the transcript to a file\n",
        "with open(\"transcript_with_speakers.txt\", \"w\") as f:\n",
        "    for utterance in transcript.utterances:\n",
        "        f.write(f\"Speaker {utterance.speaker}: {utterance.text}\\n\")\n",
        "print(\"Covid Debate.txt\")\n"
      ]
    }
  ],
  "metadata": {
    "colab": {
      "provenance": [],
      "gpuType": "T4"
    },
    "language_info": {
      "name": "python"
    },
    "kernelspec": {
      "name": "python3",
      "display_name": "Python 3"
    },
    "accelerator": "GPU"
  },
  "nbformat": 4,
  "nbformat_minor": 5
}
